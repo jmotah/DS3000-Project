{
 "cells": [
  {
   "cell_type": "markdown",
   "id": "00bfd2a1-fbac-4d3b-bde2-2f33053c0b52",
   "metadata": {},
   "source": [
    "## Phase I Project Proposal\n",
    "### How could I ever find information about this Pokemon?\n",
    "\n",
    "#### Name: Julien Motaharian, DS 3000"
   ]
  },
  {
   "cell_type": "markdown",
   "id": "09b28786-c8dc-457c-b0eb-55610c2f0c53",
   "metadata": {},
   "source": [
    "### Introduction\n",
    "\n",
    "Have you ever been playing Pokemon on your Nintendo device and ever wondered what location to find a specific Pokemon in? Have you ever played the card game and wondered the type of a certain pokemon, so you can figure out how to counter it? Being an enthusiast of the Pokemon video games and card game, I'm interested in providing a way for users to quickly find a way to answer any questions they may have in Pokemon! Essentially, I hope to create a Pokemon Encyclopedia, allowing someone to find every possible answer to their questions for a Pokemon in seconds! Using the PokeAPI, I will be able to search any Pokemon I desire to gain access to features like findable locations, all learnable moves, types, and so much more!"
   ]
  },
  {
   "cell_type": "markdown",
   "id": "997c76af-fccb-412b-97b7-0049e82ea8b2",
   "metadata": {},
   "source": [
    "### Data Collection\n",
    "\n",
    "I plan to use an API called PokeAPI to collect data from every Pokemon within the game. This will allow me to easily gain access to up-to-date information on the popular game, and finding all relevant data about any Pokemon of my choosing, including abilities, evolutions, and much more!"
   ]
  },
  {
   "cell_type": "code",
   "execution_count": 3,
   "id": "f577807c-efe3-4f0a-8a50-765c9d68892c",
   "metadata": {},
   "outputs": [
    {
     "data": {
      "text/html": [
       "<div>\n",
       "<style scoped>\n",
       "    .dataframe tbody tr th:only-of-type {\n",
       "        vertical-align: middle;\n",
       "    }\n",
       "\n",
       "    .dataframe tbody tr th {\n",
       "        vertical-align: top;\n",
       "    }\n",
       "\n",
       "    .dataframe thead th {\n",
       "        text-align: right;\n",
       "    }\n",
       "</style>\n",
       "<table border=\"1\" class=\"dataframe\">\n",
       "  <thead>\n",
       "    <tr style=\"text-align: right;\">\n",
       "      <th></th>\n",
       "      <th>Name</th>\n",
       "      <th>ID</th>\n",
       "      <th>Height</th>\n",
       "      <th>Weight</th>\n",
       "      <th>Types</th>\n",
       "    </tr>\n",
       "  </thead>\n",
       "  <tbody>\n",
       "    <tr>\n",
       "      <th>0</th>\n",
       "      <td>Pikachu</td>\n",
       "      <td>25</td>\n",
       "      <td>4</td>\n",
       "      <td>60</td>\n",
       "      <td>Electric</td>\n",
       "    </tr>\n",
       "    <tr>\n",
       "      <th>1</th>\n",
       "      <td>Bulbasaur</td>\n",
       "      <td>1</td>\n",
       "      <td>7</td>\n",
       "      <td>69</td>\n",
       "      <td>Grass, Poison</td>\n",
       "    </tr>\n",
       "    <tr>\n",
       "      <th>2</th>\n",
       "      <td>Charmander</td>\n",
       "      <td>4</td>\n",
       "      <td>6</td>\n",
       "      <td>85</td>\n",
       "      <td>Fire</td>\n",
       "    </tr>\n",
       "    <tr>\n",
       "      <th>3</th>\n",
       "      <td>Squirtle</td>\n",
       "      <td>7</td>\n",
       "      <td>5</td>\n",
       "      <td>90</td>\n",
       "      <td>Water</td>\n",
       "    </tr>\n",
       "  </tbody>\n",
       "</table>\n",
       "</div>"
      ],
      "text/plain": [
       "         Name  ID  Height  Weight          Types\n",
       "0     Pikachu  25       4      60       Electric\n",
       "1   Bulbasaur   1       7      69  Grass, Poison\n",
       "2  Charmander   4       6      85           Fire\n",
       "3    Squirtle   7       5      90          Water"
      ]
     },
     "execution_count": 3,
     "metadata": {},
     "output_type": "execute_result"
    }
   ],
   "source": [
    "import requests\n",
    "import pandas as pd\n",
    "\n",
    "url = \"https://pokeapi.co/api/v2\"\n",
    "\n",
    "def get_pokemon_info(name):\n",
    "    updated_url = f\"{url}/pokemon/{name}\"\n",
    "    response = requests.get(updated_url)\n",
    "    pokemon_data = response.json()\n",
    "    return {\n",
    "        'Name': pokemon_data['name'].capitalize(),\n",
    "        'ID': pokemon_data['id'],\n",
    "        'Height': pokemon_data['height'],\n",
    "        'Weight': pokemon_data['weight'],\n",
    "        'Types': ', '.join([t['type']['name'].capitalize() for t in pokemon_data['types']])\n",
    "    }\n",
    "\n",
    "pokemon_list = ['pikachu', 'bulbasaur', 'charmander', 'squirtle']\n",
    "\n",
    "pokemon_data = []\n",
    "\n",
    "for pokemon in pokemon_list:\n",
    "    data = get_pokemon_info(pokemon)\n",
    "    if data:\n",
    "        pokemon_data.append(data)\n",
    "\n",
    "df = pd.DataFrame(pokemon_data)\n",
    "df"
   ]
  },
  {
   "cell_type": "markdown",
   "id": "8416116c-28ca-47f1-bd44-7c0853d95b37",
   "metadata": {},
   "source": [
    "### How The Data Provides A Solution\n",
    "\n",
    "The data provides a solution for it's users by creating a seamless and easy-to-use look-up function to find any and all information about the Pokemon of their desire. With that being said, the data will provide information for the video game players to easily access any questions they may have about the pokemon in the game, including where to find a specific Pokemon. Similarly, the data will provide access for the card game players to easily gain access to any types or even moves a Pokemon could have, including specifications on the move like accuraccy, attack, etc. Ultimately, this data will allow the user to have every piece of information about Pokemon at their fingertips in seconds. "
   ]
  }
 ],
 "metadata": {
  "kernelspec": {
   "display_name": "Python 3 (ipykernel)",
   "language": "python",
   "name": "python3"
  },
  "language_info": {
   "codemirror_mode": {
    "name": "ipython",
    "version": 3
   },
   "file_extension": ".py",
   "mimetype": "text/x-python",
   "name": "python",
   "nbconvert_exporter": "python",
   "pygments_lexer": "ipython3",
   "version": "3.9.6"
  }
 },
 "nbformat": 4,
 "nbformat_minor": 5
}
